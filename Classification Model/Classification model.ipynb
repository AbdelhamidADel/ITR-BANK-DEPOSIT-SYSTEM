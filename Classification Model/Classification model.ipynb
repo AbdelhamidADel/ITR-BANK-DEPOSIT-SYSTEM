{
 "cells": [
  {
   "cell_type": "code",
   "execution_count": 128,
   "id": "13e0ce23",
   "metadata": {},
   "outputs": [],
   "source": [
    "# Time for Classification Models\n",
    "import time\n",
    "import pandas as pd\n",
    "import numpy as np\n",
    "import pickle\n",
    "import matplotlib.pyplot as plt\n",
    "import matplotx\n",
    "import seaborn as sns\n",
    "import scikitplot as skplt\n",
    "from sklearn.model_selection import train_test_split\n",
    "from sklearn.linear_model import LogisticRegression\n",
    "from sklearn.svm import SVC\n",
    "from sklearn.neighbors import KNeighborsClassifier\n",
    "from sklearn import tree\n",
    "from sklearn.neural_network import MLPClassifier\n",
    "from sklearn.neighbors import KNeighborsClassifier\n",
    "from sklearn.ensemble import GradientBoostingClassifier\n",
    "from sklearn.gaussian_process.kernels import RBF\n",
    "from sklearn.ensemble import RandomForestClassifier\n",
    "from sklearn.naive_bayes import GaussianNB\n",
    "from sklearn.model_selection import cross_val_score\n",
    "from sklearn.model_selection import cross_val_predict\n",
    "from sklearn.metrics import f1_score\n",
    "from sklearn.metrics import precision_score, recall_score\n",
    "from sklearn.ensemble import VotingClassifier\n",
    "from sklearn.metrics import accuracy_score\n",
    "\n",
    "import warnings\n",
    "warnings.filterwarnings('ignore')\n",
    "plt.style.use(matplotx.styles.dracula)\n"
   ]
  },
  {
   "cell_type": "code",
   "execution_count": 91,
   "id": "4657c71b",
   "metadata": {},
   "outputs": [
    {
     "data": {
      "text/html": [
       "<div>\n",
       "<style scoped>\n",
       "    .dataframe tbody tr th:only-of-type {\n",
       "        vertical-align: middle;\n",
       "    }\n",
       "\n",
       "    .dataframe tbody tr th {\n",
       "        vertical-align: top;\n",
       "    }\n",
       "\n",
       "    .dataframe thead th {\n",
       "        text-align: right;\n",
       "    }\n",
       "</style>\n",
       "<table border=\"1\" class=\"dataframe\">\n",
       "  <thead>\n",
       "    <tr style=\"text-align: right;\">\n",
       "      <th></th>\n",
       "      <th>age</th>\n",
       "      <th>balance</th>\n",
       "      <th>day</th>\n",
       "      <th>duration</th>\n",
       "      <th>campaign</th>\n",
       "      <th>pdays</th>\n",
       "      <th>previous</th>\n",
       "      <th>job_enc</th>\n",
       "      <th>marital_enc</th>\n",
       "      <th>education_enc</th>\n",
       "      <th>default_enc</th>\n",
       "      <th>housing_enc</th>\n",
       "      <th>loan_enc</th>\n",
       "      <th>contact_enc</th>\n",
       "      <th>month_enc</th>\n",
       "      <th>poutcome_enc</th>\n",
       "      <th>deposit_enc</th>\n",
       "    </tr>\n",
       "  </thead>\n",
       "  <tbody>\n",
       "    <tr>\n",
       "      <th>0</th>\n",
       "      <td>59</td>\n",
       "      <td>2343</td>\n",
       "      <td>5</td>\n",
       "      <td>1042</td>\n",
       "      <td>1</td>\n",
       "      <td>-1</td>\n",
       "      <td>0</td>\n",
       "      <td>0</td>\n",
       "      <td>1</td>\n",
       "      <td>1</td>\n",
       "      <td>0</td>\n",
       "      <td>1</td>\n",
       "      <td>0</td>\n",
       "      <td>2</td>\n",
       "      <td>8</td>\n",
       "      <td>3</td>\n",
       "      <td>1</td>\n",
       "    </tr>\n",
       "    <tr>\n",
       "      <th>1</th>\n",
       "      <td>56</td>\n",
       "      <td>45</td>\n",
       "      <td>5</td>\n",
       "      <td>1467</td>\n",
       "      <td>1</td>\n",
       "      <td>-1</td>\n",
       "      <td>0</td>\n",
       "      <td>0</td>\n",
       "      <td>1</td>\n",
       "      <td>1</td>\n",
       "      <td>0</td>\n",
       "      <td>0</td>\n",
       "      <td>0</td>\n",
       "      <td>2</td>\n",
       "      <td>8</td>\n",
       "      <td>3</td>\n",
       "      <td>1</td>\n",
       "    </tr>\n",
       "    <tr>\n",
       "      <th>2</th>\n",
       "      <td>41</td>\n",
       "      <td>1270</td>\n",
       "      <td>5</td>\n",
       "      <td>1389</td>\n",
       "      <td>1</td>\n",
       "      <td>-1</td>\n",
       "      <td>0</td>\n",
       "      <td>9</td>\n",
       "      <td>1</td>\n",
       "      <td>1</td>\n",
       "      <td>0</td>\n",
       "      <td>1</td>\n",
       "      <td>0</td>\n",
       "      <td>2</td>\n",
       "      <td>8</td>\n",
       "      <td>3</td>\n",
       "      <td>1</td>\n",
       "    </tr>\n",
       "    <tr>\n",
       "      <th>3</th>\n",
       "      <td>55</td>\n",
       "      <td>2476</td>\n",
       "      <td>5</td>\n",
       "      <td>579</td>\n",
       "      <td>1</td>\n",
       "      <td>-1</td>\n",
       "      <td>0</td>\n",
       "      <td>7</td>\n",
       "      <td>1</td>\n",
       "      <td>1</td>\n",
       "      <td>0</td>\n",
       "      <td>1</td>\n",
       "      <td>0</td>\n",
       "      <td>2</td>\n",
       "      <td>8</td>\n",
       "      <td>3</td>\n",
       "      <td>1</td>\n",
       "    </tr>\n",
       "    <tr>\n",
       "      <th>4</th>\n",
       "      <td>54</td>\n",
       "      <td>184</td>\n",
       "      <td>5</td>\n",
       "      <td>673</td>\n",
       "      <td>2</td>\n",
       "      <td>-1</td>\n",
       "      <td>0</td>\n",
       "      <td>0</td>\n",
       "      <td>1</td>\n",
       "      <td>2</td>\n",
       "      <td>0</td>\n",
       "      <td>0</td>\n",
       "      <td>0</td>\n",
       "      <td>2</td>\n",
       "      <td>8</td>\n",
       "      <td>3</td>\n",
       "      <td>1</td>\n",
       "    </tr>\n",
       "  </tbody>\n",
       "</table>\n",
       "</div>"
      ],
      "text/plain": [
       "   age  balance  day  duration  campaign  pdays  previous  job_enc  \\\n",
       "0   59     2343    5      1042         1     -1         0        0   \n",
       "1   56       45    5      1467         1     -1         0        0   \n",
       "2   41     1270    5      1389         1     -1         0        9   \n",
       "3   55     2476    5       579         1     -1         0        7   \n",
       "4   54      184    5       673         2     -1         0        0   \n",
       "\n",
       "   marital_enc  education_enc  default_enc  housing_enc  loan_enc  \\\n",
       "0            1              1            0            1         0   \n",
       "1            1              1            0            0         0   \n",
       "2            1              1            0            1         0   \n",
       "3            1              1            0            1         0   \n",
       "4            1              2            0            0         0   \n",
       "\n",
       "   contact_enc  month_enc  poutcome_enc  deposit_enc  \n",
       "0            2          8             3            1  \n",
       "1            2          8             3            1  \n",
       "2            2          8             3            1  \n",
       "3            2          8             3            1  \n",
       "4            2          8             3            1  "
      ]
     },
     "execution_count": 91,
     "metadata": {},
     "output_type": "execute_result"
    }
   ],
   "source": [
    "df=pd.read_csv('New_Bank_Data.csv')\n",
    "df.head()"
   ]
  },
  {
   "cell_type": "code",
   "execution_count": 92,
   "id": "fdb5511c",
   "metadata": {},
   "outputs": [
    {
     "data": {
      "text/plain": [
       "((8929, 16), (8929,))"
      ]
     },
     "execution_count": 92,
     "metadata": {},
     "output_type": "execute_result"
    }
   ],
   "source": [
    "#data splitting\n",
    "X=df.drop(\"deposit_enc\",axis=1)\n",
    "y=df[\"deposit_enc\"]\n",
    "X_train, X_test, y_train, y_test = train_test_split(X, y, test_size=0.2, random_state=42)\n",
    "X_train.shape, y_train.shape"
   ]
  },
  {
   "cell_type": "code",
   "execution_count": 93,
   "id": "c8641932",
   "metadata": {},
   "outputs": [],
   "source": [
    "dict_classifiers = [LogisticRegression(),KNeighborsClassifier(),SVC(),GradientBoostingClassifier(),tree.DecisionTreeClassifier(),RandomForestClassifier(n_estimators=18),\n",
    "                   MLPClassifier(alpha=1),GaussianNB()]"
   ]
  },
  {
   "cell_type": "code",
   "execution_count": 94,
   "id": "2169fc64",
   "metadata": {},
   "outputs": [
    {
     "name": "stdout",
     "output_type": "stream",
     "text": [
      "for Model LogisticRegression\n",
      "Train Score is : 0.7627953858214805\n",
      "Test Score is : 0.748320644872369\n",
      "Test accuracy_score  : 0.748320644872369\n",
      "Test Precision Score:  0.7487684729064039\n",
      "test Recall Score:  0.7122774133083412\n",
      "test F1 Score:  0.7300672430355427\n",
      "=================================================\n",
      "for Model KNeighborsClassifier\n",
      "Train Score is : 0.8203606226901109\n",
      "Test Score is : 0.748320644872369\n",
      "Test accuracy_score  : 0.748320644872369\n",
      "Test Precision Score:  0.7425552353506244\n",
      "test Recall Score:  0.7244611059044048\n",
      "test F1 Score:  0.7333965844402276\n",
      "=================================================\n",
      "for Model SVC\n",
      "Train Score is : 0.7435323104490984\n",
      "Test Score is : 0.7259292431706225\n",
      "Test accuracy_score  : 0.7259292431706225\n",
      "Test Precision Score:  0.7502750275027503\n",
      "test Recall Score:  0.6391752577319587\n",
      "test F1 Score:  0.6902834008097166\n",
      "=================================================\n",
      "for Model GradientBoostingClassifier\n",
      "Train Score is : 0.8607906820472617\n",
      "Test Score is : 0.8217644424540976\n",
      "Test accuracy_score  : 0.8217644424540976\n",
      "Test Precision Score:  0.8005390835579514\n",
      "test Recall Score:  0.8350515463917526\n",
      "test F1 Score:  0.8174311926605504\n",
      "=================================================\n",
      "for Model DecisionTreeClassifier\n",
      "Train Score is : 1.0\n",
      "Test Score is : 0.7648902821316614\n",
      "Test accuracy_score  : 0.7648902821316614\n",
      "Test Precision Score:  0.7615830115830116\n",
      "test Recall Score:  0.739456419868791\n",
      "test F1 Score:  0.7503566333808844\n",
      "=================================================\n",
      "for Model RandomForestClassifier\n",
      "Train Score is : 0.9969761451450331\n",
      "Test Score is : 0.8181818181818182\n",
      "Test accuracy_score  : 0.8181818181818182\n",
      "Test Precision Score:  0.8029330889092575\n",
      "test Recall Score:  0.8209934395501406\n",
      "test F1 Score:  0.8118628359592215\n",
      "=================================================\n",
      "for Model MLPClassifier\n",
      "Train Score is : 0.7783626385933475\n",
      "Test Score is : 0.7716077026421854\n",
      "Test accuracy_score  : 0.7716077026421854\n",
      "Test Precision Score:  0.7013738250180767\n",
      "test Recall Score:  0.9090909090909091\n",
      "test F1 Score:  0.7918367346938776\n",
      "=================================================\n",
      "for Model GaussianNB\n",
      "Train Score is : 0.7530518535110314\n",
      "Test Score is : 0.7501119570085087\n",
      "Test accuracy_score  : 0.7501119570085087\n",
      "Test Precision Score:  0.7162276975361087\n",
      "test Recall Score:  0.7900656044985942\n",
      "test F1 Score:  0.7513368983957219\n",
      "=================================================\n"
     ]
    }
   ],
   "source": [
    "for Model in dict_classifiers : \n",
    "    print(f'for Model {str(Model).split(\"(\")[0]}')\n",
    "    Model.fit(X_train, y_train)\n",
    "    print(f'Train Score is : {Model.score(X_train, y_train)}')\n",
    "    print(f'Test Score is : {Model.score(X_test, y_test)}')\n",
    "    y_pred = Model.predict(X_test)\n",
    "    print(f'Test accuracy_score  : { accuracy_score(y_test, y_pred)}')\n",
    "    print('Test Precision Score: ', precision_score(y_test, y_pred))\n",
    "    print('test Recall Score: ', recall_score(y_test, y_pred))\n",
    "    print('test F1 Score: ',f1_score(y_test, y_pred))\n",
    "   \n",
    "\n",
    "    print('=================================================')"
   ]
  },
  {
   "cell_type": "code",
   "execution_count": 96,
   "id": "860016fc",
   "metadata": {},
   "outputs": [],
   "source": [
    "# Use Cross-validation.\n",
    "# Logistic Regression\n",
    "log_reg = LogisticRegression()\n",
    "log_scores = cross_val_score(log_reg, X_train, y_train, cv=3)\n",
    "log_reg_mean = log_scores.mean()\n",
    "\n",
    "# SVC\n",
    "svc_clf = SVC()\n",
    "svc_scores = cross_val_score(svc_clf, X_train, y_train, cv=3)\n",
    "svc_mean = svc_scores.mean()\n",
    "\n",
    "# KNearestNeighbors\n",
    "knn_clf = KNeighborsClassifier()\n",
    "knn_scores = cross_val_score(knn_clf, X_train, y_train, cv=3)\n",
    "knn_mean = knn_scores.mean()\n",
    "\n",
    "# Decision Tree\n",
    "tree_clf = tree.DecisionTreeClassifier()\n",
    "tree_scores = cross_val_score(tree_clf, X_train, y_train, cv=3)\n",
    "tree_mean = tree_scores.mean()\n",
    "\n",
    "# Gradient Boosting Classifier\n",
    "grad_clf = GradientBoostingClassifier()\n",
    "grad_scores = cross_val_score(grad_clf, X_train, y_train, cv=3)\n",
    "grad_mean = grad_scores.mean()\n",
    "\n",
    "# Random Forest Classifier\n",
    "rand_clf = RandomForestClassifier(n_estimators=18)\n",
    "rand_scores = cross_val_score(rand_clf, X_train, y_train, cv=3)\n",
    "rand_mean = rand_scores.mean()\n",
    "\n",
    "# NeuralNet Classifier\n",
    "neural_clf = MLPClassifier(alpha=1)\n",
    "neural_scores = cross_val_score(neural_clf, X_train, y_train, cv=3)\n",
    "neural_mean = neural_scores.mean()\n",
    "\n",
    "# Naives Bayes\n",
    "nav_clf = GaussianNB()\n",
    "nav_scores = cross_val_score(nav_clf, X_train, y_train, cv=3)\n",
    "nav_mean = neural_scores.mean()\n",
    "\n",
    "# Create a Dataframe with the results.\n",
    "d = {'Classifiers': ['Logistic Reg.', 'SVC', 'KNN', 'Dec Tree', 'Grad B CLF', 'Rand FC', 'Neural Classifier', 'Naives Bayes'], \n",
    "    'Crossval Mean Scores': [log_reg_mean, svc_mean, knn_mean, tree_mean, grad_mean, rand_mean, neural_mean, nav_mean]}\n",
    "\n",
    "result_df = pd.DataFrame(data=d).sort_values(by='Crossval Mean Scores',ascending=False)"
   ]
  },
  {
   "cell_type": "code",
   "execution_count": 97,
   "id": "33ce5abe",
   "metadata": {},
   "outputs": [
    {
     "data": {
      "text/html": [
       "<div>\n",
       "<style scoped>\n",
       "    .dataframe tbody tr th:only-of-type {\n",
       "        vertical-align: middle;\n",
       "    }\n",
       "\n",
       "    .dataframe tbody tr th {\n",
       "        vertical-align: top;\n",
       "    }\n",
       "\n",
       "    .dataframe thead th {\n",
       "        text-align: right;\n",
       "    }\n",
       "</style>\n",
       "<table border=\"1\" class=\"dataframe\">\n",
       "  <thead>\n",
       "    <tr style=\"text-align: right;\">\n",
       "      <th></th>\n",
       "      <th>Classifiers</th>\n",
       "      <th>Crossval Mean Scores</th>\n",
       "    </tr>\n",
       "  </thead>\n",
       "  <tbody>\n",
       "    <tr>\n",
       "      <th>4</th>\n",
       "      <td>Grad B CLF</td>\n",
       "      <td>0.845447</td>\n",
       "    </tr>\n",
       "    <tr>\n",
       "      <th>5</th>\n",
       "      <td>Rand FC</td>\n",
       "      <td>0.832344</td>\n",
       "    </tr>\n",
       "    <tr>\n",
       "      <th>3</th>\n",
       "      <td>Dec Tree</td>\n",
       "      <td>0.776795</td>\n",
       "    </tr>\n",
       "    <tr>\n",
       "      <th>6</th>\n",
       "      <td>Neural Classifier</td>\n",
       "      <td>0.768956</td>\n",
       "    </tr>\n",
       "    <tr>\n",
       "      <th>7</th>\n",
       "      <td>Naives Bayes</td>\n",
       "      <td>0.768956</td>\n",
       "    </tr>\n",
       "    <tr>\n",
       "      <th>0</th>\n",
       "      <td>Logistic Reg.</td>\n",
       "      <td>0.757196</td>\n",
       "    </tr>\n",
       "    <tr>\n",
       "      <th>2</th>\n",
       "      <td>KNN</td>\n",
       "      <td>0.745659</td>\n",
       "    </tr>\n",
       "    <tr>\n",
       "      <th>1</th>\n",
       "      <td>SVC</td>\n",
       "      <td>0.738492</td>\n",
       "    </tr>\n",
       "  </tbody>\n",
       "</table>\n",
       "</div>"
      ],
      "text/plain": [
       "         Classifiers  Crossval Mean Scores\n",
       "4         Grad B CLF              0.845447\n",
       "5            Rand FC              0.832344\n",
       "3           Dec Tree              0.776795\n",
       "6  Neural Classifier              0.768956\n",
       "7       Naives Bayes              0.768956\n",
       "0      Logistic Reg.              0.757196\n",
       "2                KNN              0.745659\n",
       "1                SVC              0.738492"
      ]
     },
     "execution_count": 97,
     "metadata": {},
     "output_type": "execute_result"
    }
   ],
   "source": [
    "result_df"
   ]
  },
  {
   "cell_type": "code",
   "execution_count": 98,
   "id": "03d9752c",
   "metadata": {},
   "outputs": [
    {
     "data": {
      "text/html": [
       "<style>#sk-container-id-7 {color: black;background-color: white;}#sk-container-id-7 pre{padding: 0;}#sk-container-id-7 div.sk-toggleable {background-color: white;}#sk-container-id-7 label.sk-toggleable__label {cursor: pointer;display: block;width: 100%;margin-bottom: 0;padding: 0.3em;box-sizing: border-box;text-align: center;}#sk-container-id-7 label.sk-toggleable__label-arrow:before {content: \"▸\";float: left;margin-right: 0.25em;color: #696969;}#sk-container-id-7 label.sk-toggleable__label-arrow:hover:before {color: black;}#sk-container-id-7 div.sk-estimator:hover label.sk-toggleable__label-arrow:before {color: black;}#sk-container-id-7 div.sk-toggleable__content {max-height: 0;max-width: 0;overflow: hidden;text-align: left;background-color: #f0f8ff;}#sk-container-id-7 div.sk-toggleable__content pre {margin: 0.2em;color: black;border-radius: 0.25em;background-color: #f0f8ff;}#sk-container-id-7 input.sk-toggleable__control:checked~div.sk-toggleable__content {max-height: 200px;max-width: 100%;overflow: auto;}#sk-container-id-7 input.sk-toggleable__control:checked~label.sk-toggleable__label-arrow:before {content: \"▾\";}#sk-container-id-7 div.sk-estimator input.sk-toggleable__control:checked~label.sk-toggleable__label {background-color: #d4ebff;}#sk-container-id-7 div.sk-label input.sk-toggleable__control:checked~label.sk-toggleable__label {background-color: #d4ebff;}#sk-container-id-7 input.sk-hidden--visually {border: 0;clip: rect(1px 1px 1px 1px);clip: rect(1px, 1px, 1px, 1px);height: 1px;margin: -1px;overflow: hidden;padding: 0;position: absolute;width: 1px;}#sk-container-id-7 div.sk-estimator {font-family: monospace;background-color: #f0f8ff;border: 1px dotted black;border-radius: 0.25em;box-sizing: border-box;margin-bottom: 0.5em;}#sk-container-id-7 div.sk-estimator:hover {background-color: #d4ebff;}#sk-container-id-7 div.sk-parallel-item::after {content: \"\";width: 100%;border-bottom: 1px solid gray;flex-grow: 1;}#sk-container-id-7 div.sk-label:hover label.sk-toggleable__label {background-color: #d4ebff;}#sk-container-id-7 div.sk-serial::before {content: \"\";position: absolute;border-left: 1px solid gray;box-sizing: border-box;top: 0;bottom: 0;left: 50%;z-index: 0;}#sk-container-id-7 div.sk-serial {display: flex;flex-direction: column;align-items: center;background-color: white;padding-right: 0.2em;padding-left: 0.2em;position: relative;}#sk-container-id-7 div.sk-item {position: relative;z-index: 1;}#sk-container-id-7 div.sk-parallel {display: flex;align-items: stretch;justify-content: center;background-color: white;position: relative;}#sk-container-id-7 div.sk-item::before, #sk-container-id-7 div.sk-parallel-item::before {content: \"\";position: absolute;border-left: 1px solid gray;box-sizing: border-box;top: 0;bottom: 0;left: 50%;z-index: -1;}#sk-container-id-7 div.sk-parallel-item {display: flex;flex-direction: column;z-index: 1;position: relative;background-color: white;}#sk-container-id-7 div.sk-parallel-item:first-child::after {align-self: flex-end;width: 50%;}#sk-container-id-7 div.sk-parallel-item:last-child::after {align-self: flex-start;width: 50%;}#sk-container-id-7 div.sk-parallel-item:only-child::after {width: 0;}#sk-container-id-7 div.sk-dashed-wrapped {border: 1px dashed gray;margin: 0 0.4em 0.5em 0.4em;box-sizing: border-box;padding-bottom: 0.4em;background-color: white;}#sk-container-id-7 div.sk-label label {font-family: monospace;font-weight: bold;display: inline-block;line-height: 1.2em;}#sk-container-id-7 div.sk-label-container {text-align: center;}#sk-container-id-7 div.sk-container {/* jupyter's `normalize.less` sets `[hidden] { display: none; }` but bootstrap.min.css set `[hidden] { display: none !important; }` so we also need the `!important` here to be able to override the default hidden behavior on the sphinx rendered scikit-learn.org. See: https://github.com/scikit-learn/scikit-learn/issues/21755 */display: inline-block !important;position: relative;}#sk-container-id-7 div.sk-text-repr-fallback {display: none;}</style><div id=\"sk-container-id-7\" class=\"sk-top-container\"><div class=\"sk-text-repr-fallback\"><pre>VotingClassifier(estimators=[(&#x27;gbc&#x27;, GradientBoostingClassifier()),\n",
       "                             (&#x27;Rand&#x27;, RandomForestClassifier(n_estimators=18))],\n",
       "                 voting=&#x27;soft&#x27;)</pre><b>In a Jupyter environment, please rerun this cell to show the HTML representation or trust the notebook. <br />On GitHub, the HTML representation is unable to render, please try loading this page with nbviewer.org.</b></div><div class=\"sk-container\" hidden><div class=\"sk-item sk-dashed-wrapped\"><div class=\"sk-label-container\"><div class=\"sk-label sk-toggleable\"><input class=\"sk-toggleable__control sk-hidden--visually\" id=\"sk-estimator-id-23\" type=\"checkbox\" ><label for=\"sk-estimator-id-23\" class=\"sk-toggleable__label sk-toggleable__label-arrow\">VotingClassifier</label><div class=\"sk-toggleable__content\"><pre>VotingClassifier(estimators=[(&#x27;gbc&#x27;, GradientBoostingClassifier()),\n",
       "                             (&#x27;Rand&#x27;, RandomForestClassifier(n_estimators=18))],\n",
       "                 voting=&#x27;soft&#x27;)</pre></div></div></div><div class=\"sk-parallel\"><div class=\"sk-parallel-item\"><div class=\"sk-item\"><div class=\"sk-label-container\"><div class=\"sk-label sk-toggleable\"><label>gbc</label></div></div><div class=\"sk-serial\"><div class=\"sk-item\"><div class=\"sk-estimator sk-toggleable\"><input class=\"sk-toggleable__control sk-hidden--visually\" id=\"sk-estimator-id-24\" type=\"checkbox\" ><label for=\"sk-estimator-id-24\" class=\"sk-toggleable__label sk-toggleable__label-arrow\">GradientBoostingClassifier</label><div class=\"sk-toggleable__content\"><pre>GradientBoostingClassifier()</pre></div></div></div></div></div></div><div class=\"sk-parallel-item\"><div class=\"sk-item\"><div class=\"sk-label-container\"><div class=\"sk-label sk-toggleable\"><label>Rand</label></div></div><div class=\"sk-serial\"><div class=\"sk-item\"><div class=\"sk-estimator sk-toggleable\"><input class=\"sk-toggleable__control sk-hidden--visually\" id=\"sk-estimator-id-25\" type=\"checkbox\" ><label for=\"sk-estimator-id-25\" class=\"sk-toggleable__label sk-toggleable__label-arrow\">RandomForestClassifier</label><div class=\"sk-toggleable__content\"><pre>RandomForestClassifier(n_estimators=18)</pre></div></div></div></div></div></div></div></div></div></div>"
      ],
      "text/plain": [
       "VotingClassifier(estimators=[('gbc', GradientBoostingClassifier()),\n",
       "                             ('Rand', RandomForestClassifier(n_estimators=18))],\n",
       "                 voting='soft')"
      ]
     },
     "execution_count": 98,
     "metadata": {},
     "output_type": "execute_result"
    }
   ],
   "source": [
    "# Our three classifiers are grad_clf, nav_clf and neural_clf\n",
    "\n",
    "voting_clf = VotingClassifier(\n",
    "    estimators=[('gbc', grad_clf), ('Rand', rand_clf)],\n",
    "    voting='soft'\n",
    ")\n",
    "\n",
    "voting_clf.fit(X_train, y_train)"
   ]
  },
  {
   "cell_type": "code",
   "execution_count": 99,
   "id": "4575378b",
   "metadata": {},
   "outputs": [
    {
     "name": "stdout",
     "output_type": "stream",
     "text": [
      "GradientBoostingClassifier 0.8217644424540976\n",
      "RandomForestClassifier 0.8244514106583072\n",
      "VotingClassifier 0.8222122704881325\n"
     ]
    }
   ],
   "source": [
    "for clf in (grad_clf, rand_clf, voting_clf):\n",
    "    clf.fit(X_train, y_train)\n",
    "    predict = clf.predict(X_test)\n",
    "    print(clf.__class__.__name__, accuracy_score(y_test, predict))"
   ]
  },
  {
   "cell_type": "code",
   "execution_count": 108,
   "id": "95723aa8",
   "metadata": {},
   "outputs": [],
   "source": [
    "predicted_probas =voting_clf.predict_proba(X_test)"
   ]
  },
  {
   "cell_type": "code",
   "execution_count": 126,
   "id": "beb4022b",
   "metadata": {},
   "outputs": [
    {
     "data": {
      "image/png": "[encoded data removed]",
      "text/plain": [
       "<Figure size 640x480 with 1 Axes>"
      ]
     },
     "metadata": {},
     "output_type": "display_data"
    }
   ],
   "source": [
    "skplt.metrics.plot_precision_recall_curve(y_test, predicted_probas)\n",
    "plt.show()"
   ]
  },
  {
   "cell_type": "code",
   "execution_count": 127,
   "id": "0cc77e15",
   "metadata": {},
   "outputs": [
    {
     "data": {
      "image/png": "[encoded data removed]",
      "text/plain": [
       "<Figure size 640x480 with 2 Axes>"
      ]
     },
     "metadata": {},
     "output_type": "display_data"
    }
   ],
   "source": [
    "predictions = cross_val_predict(voting_clf, X_test, y_test)\n",
    "plot = skplt.metrics.plot_confusion_matrix(y_test, predictions, normalize=True)\n"
   ]
  },
  {
   "cell_type": "code",
   "execution_count": 102,
   "id": "931a099b",
   "metadata": {},
   "outputs": [],
   "source": [
    "# save the model to disk\n",
    "filename = 'Class_Model.pkl'\n",
    "pickle.dump(voting_clf, open(filename, 'wb'))"
   ]
  }
 ],
 "metadata": {
  "kernelspec": {
   "display_name": "myenv",
   "language": "python",
   "name": "myenv"
  },
  "language_info": {
   "codemirror_mode": {
    "name": "ipython",
    "version": 3
   },
   "file_extension": ".py",
   "mimetype": "text/x-python",
   "name": "python",
   "nbconvert_exporter": "python",
   "pygments_lexer": "ipython3",
   "version": "3.10.4 | packaged by conda-forge | (main, Mar 30 2022, 08:38:02) [MSC v.1916 64 bit (AMD64)]"
  }
 },
 "nbformat": 4,
 "nbformat_minor": 5
}
